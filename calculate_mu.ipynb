{
 "cells": [
  {
   "cell_type": "code",
   "execution_count": 1,
   "metadata": {},
   "outputs": [],
   "source": [
    "import networkx as nx\n",
    "\n",
    "import numpy as np\n",
    "# 导入所需的库\n",
    "import networkx as nx\n",
    "import community as community_louvain"
   ]
  },
  {
   "cell_type": "code",
   "execution_count": 5,
   "metadata": {},
   "outputs": [],
   "source": [
    "\n",
    "def read_directed_graph(file_path, skip_lines):\n",
    "    G = nx.DiGraph()  # Initialize an empty directed graph\n",
    "    with open(file_path, 'r') as file:\n",
    "        for _ in range(skip_lines):\n",
    "            next(file)  # Skip the initial descriptive lines\n",
    "        for line in file:\n",
    "            parts = line.strip().split()\n",
    "            if len(parts) == 2:  # Only consider lines with exactly two node identifiers\n",
    "                u, v = parts\n",
    "                G.add_edge(u, v)\n",
    "    \n",
    "    return G\n",
    "\n",
    "\n",
    "path1 = '/Users/ernest/Desktop/comp8880/project/code 2/data/email/email-Eu-core.txt'\n",
    "path2 = \"/Users/ernest/Desktop/comp8880/project/code 2/data/wiki-Vote.txt\"\n",
    "path3 = \"/Users/ernest/Desktop/comp8880/project/code 2/data/soc/soc-Slashdot0811.txt\"\n",
    "path4 = \"/Users/ernest/Desktop/comp8880/project/code 2/data/soc/soc-twitter-follows-mun.edges\"\n",
    "path5 = \"/Users/ernest/Desktop/comp8880/project/code 2/data/soc/soc-Epinions1.txt\"\n",
    "\n",
    "G_email = read_directed_graph(path1, 0)\n",
    "G_wiki = read_directed_graph(path2, 4)\n",
    "G_slash = read_directed_graph(path3, 4)\n",
    "G_twit = read_directed_graph(path4, 0)\n",
    "G_epi = read_directed_graph(path5, 4)\n"
   ]
  },
  {
   "cell_type": "code",
   "execution_count": 6,
   "metadata": {
    "scrolled": true
   },
   "outputs": [
    {
     "name": "stdout",
     "output_type": "stream",
     "text": [
      "G1 的混合参数 μ: 0.4181299127918345\n",
      "G2 的混合参数 μ: 0.35882301883517054\n",
      "G3 的混合参数 μ: 0.4489026669081624\n",
      "G4 的混合参数 μ: 0.26911899645183623\n",
      "G5 的混合参数 μ: 0.325227921711668\n"
     ]
    }
   ],
   "source": [
    "\n",
    "# 假设我们有几个图的列表\n",
    "graphs = [G_email, G_wiki, G_slash, G_twit, G_epi]\n",
    "\n",
    "# 初始化一个字典来存储每个图的混合参数 μ\n",
    "mu_values = {}\n",
    "\n",
    "# 遍历每个图并计算其混合参数 μ\n",
    "for i, G in enumerate(graphs, 1):\n",
    "    # 将有向图转换为无向图\n",
    "    G_undirected = G.to_undirected()\n",
    "\n",
    "    # 使用Louvain算法进行社区检测\n",
    "    partition = community_louvain.best_partition(G_undirected)\n",
    "\n",
    "    # 初始化社区内和社区外的边数\n",
    "    intra_community_edges = 0\n",
    "    inter_community_edges = 0\n",
    "\n",
    "    # 计算社区内和社区外的边数\n",
    "    for edge in G.edges():\n",
    "        if partition[edge[0]] == partition[edge[1]]:\n",
    "            intra_community_edges += 1\n",
    "        else:\n",
    "            inter_community_edges += 1\n",
    "\n",
    "    # 计算混合参数 μ\n",
    "    mu = inter_community_edges / (intra_community_edges + inter_community_edges)\n",
    "\n",
    "    # 存储当前图的 μ 值\n",
    "    mu_values[f'G{i}'] = mu\n",
    "\n",
    "# 打印每个图的混合参数 μ\n",
    "for graph_name, mu in mu_values.items():\n",
    "    print(f\"{graph_name} 的混合参数 μ: {mu}\")\n"
   ]
  },
  {
   "cell_type": "code",
   "execution_count": 23,
   "metadata": {},
   "outputs": [],
   "source": [
    "import community as community_louvain"
   ]
  },
  {
   "cell_type": "code",
   "execution_count": 24,
   "metadata": {},
   "outputs": [],
   "source": [
    "def calculate_mu(G):\n",
    "    \"\"\"\n",
    "    计算给定图的混合参数 μ\n",
    "\n",
    "    参数:\n",
    "    G - NetworkX 图\n",
    "\n",
    "    返回:\n",
    "    μ - 混合参数\n",
    "    \"\"\"\n",
    "    # 将有向图转换为无向图\n",
    "    G_undirected = G.to_undirected()\n",
    "\n",
    "    # 使用Louvain算法进行社区检测\n",
    "    partition = community_louvain.best_partition(G_undirected)\n",
    "\n",
    "    # 初始化社区内和社区外的边数\n",
    "    intra_community_edges = 0\n",
    "    inter_community_edges = 0\n",
    "\n",
    "    # 计算社区内和社区外的边数\n",
    "    for edge in G.edges():\n",
    "        if partition[edge[0]] == partition[edge[1]]:\n",
    "            intra_community_edges += 1\n",
    "        else:\n",
    "            inter_community_edges += 1\n",
    "\n",
    "    # 计算混合参数 μ\n",
    "    mu = inter_community_edges / (intra_community_edges + inter_community_edges)\n",
    "    \n",
    "    return mu\n",
    "\n",
    "\n"
   ]
  },
  {
   "cell_type": "code",
   "execution_count": 25,
   "metadata": {},
   "outputs": [
    {
     "name": "stdout",
     "output_type": "stream",
     "text": [
      "artist: 0.2571026489459995\n"
     ]
    }
   ],
   "source": [
    "import networkx as nx\n",
    "import csv\n",
    "from infomap import Infomap\n",
    "def read_undirected_graph(file_path, skip_lines=0):\n",
    "    \"\"\"\n",
    "    从CSV文件中读取无向图\n",
    "\n",
    "    参数:\n",
    "    file_path - CSV文件路径\n",
    "    skip_lines - 需要跳过的初始描述行数\n",
    "\n",
    "    返回:\n",
    "    G - NetworkX 无向图\n",
    "    \"\"\"\n",
    "    G = nx.Graph()  # 初始化一个空的无向图\n",
    "    with open(file_path, 'r') as file:\n",
    "        reader = csv.reader(file)\n",
    "        for _ in range(skip_lines):\n",
    "            next(reader)  # 跳过初始描述行\n",
    "        for row in reader:\n",
    "            if len(row) == 2:  # 只考虑包含恰好两个节点标识符的行\n",
    "                u, v = row\n",
    "                G.add_edge(u, v)\n",
    "    \n",
    "    return G\n",
    "\n",
    "# 示例用法\n",
    "file_path = '/Users/ernest/Desktop/comp8880/project/code 2/data/low_mu/facebook_clean_data/artist_edges.csv'\n",
    "G = read_undirected_graph(file_path, 0)  # 例如跳过第一行描述行\n",
    "\n",
    "print(\"artist:\", calculate_mu(G))"
   ]
  },
  {
   "cell_type": "code",
   "execution_count": 5,
   "metadata": {},
   "outputs": [
    {
     "name": "stdout",
     "output_type": "stream",
     "text": [
      "athletes: 0.2119642178703416\n"
     ]
    }
   ],
   "source": [
    "file_path = \"/Users/ernest/Desktop/comp8880/project/code 2/data/low_mu/facebook_clean_data/athletes_edges.csv\"\n",
    "G = read_undirected_graph(file_path, 0)  # 例如跳过第一行描述行\n",
    "print(\"athletes:\", calculate_mu(G))"
   ]
  },
  {
   "cell_type": "code",
   "execution_count": 6,
   "metadata": {},
   "outputs": [
    {
     "name": "stdout",
     "output_type": "stream",
     "text": [
      "company: 0.21796562864407104\n"
     ]
    }
   ],
   "source": [
    "file_path = \"/Users/ernest/Desktop/comp8880/project/code 2/data/low_mu/facebook_clean_data/company_edges.csv\"\n",
    "G = read_undirected_graph(file_path, 0)  # 例如跳过第一行描述行\n",
    "print(\"company:\", calculate_mu(G))"
   ]
  },
  {
   "cell_type": "code",
   "execution_count": 7,
   "metadata": {},
   "outputs": [
    {
     "name": "stdout",
     "output_type": "stream",
     "text": [
      "government: 0.16057055982829546\n"
     ]
    }
   ],
   "source": [
    "file_path = \"/Users/ernest/Desktop/comp8880/project/code 2/data/low_mu/facebook_clean_data/government_edges.csv\"\n",
    "G = read_undirected_graph(file_path, 0)  # 例如跳过第一行描述行\n",
    "print(\"government:\", calculate_mu(G))"
   ]
  },
  {
   "cell_type": "code",
   "execution_count": 8,
   "metadata": {},
   "outputs": [
    {
     "name": "stdout",
     "output_type": "stream",
     "text": [
      "new_sites_edges: 0.31237758169300883\n"
     ]
    }
   ],
   "source": [
    "file_path = \"/Users/ernest/Desktop/comp8880/project/code 2/data/low_mu/facebook_clean_data/new_sites_edges.csv\"\n",
    "G = read_undirected_graph(file_path, 0)  # 例如跳过第一行描述行\n",
    "print(\"new_sites_edges:\", calculate_mu(G))"
   ]
  },
  {
   "cell_type": "code",
   "execution_count": 9,
   "metadata": {},
   "outputs": [
    {
     "name": "stdout",
     "output_type": "stream",
     "text": [
      "politician: 0.06249700455307932\n"
     ]
    }
   ],
   "source": [
    "file_path = \"/Users/ernest/Desktop/comp8880/project/code 2/data/low_mu/facebook_clean_data/politician_edges.csv\"\n",
    "G = read_undirected_graph(file_path, 0)  # 例如跳过第一行描述行\n",
    "print(\"politician:\", calculate_mu(G))\n"
   ]
  },
  {
   "cell_type": "code",
   "execution_count": 10,
   "metadata": {},
   "outputs": [
    {
     "name": "stdout",
     "output_type": "stream",
     "text": [
      "public_figure: 0.16766743648960739\n"
     ]
    }
   ],
   "source": [
    "file_path = \"/Users/ernest/Desktop/comp8880/project/code 2/data/low_mu/facebook_clean_data/public_figure_edges.csv\"\n",
    "G = read_undirected_graph(file_path, 0)  # 例如跳过第一行描述行\n",
    "print(\"public_figure:\", calculate_mu(G))\n"
   ]
  },
  {
   "cell_type": "code",
   "execution_count": 11,
   "metadata": {},
   "outputs": [
    {
     "name": "stdout",
     "output_type": "stream",
     "text": [
      "tvshow: 0.06673231767363726\n"
     ]
    }
   ],
   "source": [
    "file_path = \"/Users/ernest/Desktop/comp8880/project/code 2/data/low_mu/facebook_clean_data/tvshow_edges.csv\"\n",
    "G = read_undirected_graph(file_path, 0)  # 例如跳过第一行描述行\n",
    "print(\"tvshow:\", calculate_mu(G))\n"
   ]
  },
  {
   "cell_type": "code",
   "execution_count": 29,
   "metadata": {
    "jupyter": {
     "source_hidden": true
    }
   },
   "outputs": [],
   "source": [
    "from infomap import Infomap\n",
    "import networkx as nx\n",
    "\n",
    "def calculate_mu_infomap(G):\n",
    "    \"\"\"\n",
    "    计算给定图的混合参数 μ（使用 Infomap 算法进行社区检测）\n",
    "\n",
    "    参数:\n",
    "    G - NetworkX 图\n",
    "\n",
    "    返回:\n",
    "    μ - 混合参数\n",
    "    \"\"\"\n",
    "    # 使用 Infomap 进行社区检测\n",
    "    infomap = Infomap(silent=True)\n",
    "\n",
    "    # 创建节点映射，将节点标识符映射为整数\n",
    "    node_mapping = {node: i for i, node in enumerate(G.nodes())}\n",
    "    reverse_mapping = {i: node for node, i in node_mapping.items()}\n",
    "\n",
    "    # 添加边到 Infomap 对象\n",
    "    for edge in G.edges():\n",
    "        infomap.add_link(node_mapping[edge[0]], node_mapping[edge[1]])\n",
    "\n",
    "    infomap.run()\n",
    "\n",
    "    partition = {}\n",
    "    for node_id, module_id in infomap.modules:\n",
    "        partition[reverse_mapping[node_id]] = module_id\n",
    "\n",
    "    # 初始化社区内和社区外的边数\n",
    "    intra_community_edges = 0\n",
    "    inter_community_edges = 0\n",
    "\n",
    "    # 计算社区内和社区外的边数\n",
    "    for edge in G.edges():\n",
    "        if partition[edge[0]] == partition[edge[1]]:\n",
    "            intra_community_edges += 1\n",
    "        else:\n",
    "            inter_community_edges += 1\n",
    "\n",
    "    # 计算混合参数 μ\n",
    "    mu = inter_community_edges / (intra_community_edges + inter_community_edges)\n",
    "    \n",
    "    return mu"
   ]
  },
  {
   "cell_type": "code",
   "execution_count": 30,
   "metadata": {},
   "outputs": [
    {
     "name": "stdout",
     "output_type": "stream",
     "text": [
      "artist: 0.3405341343354811\n"
     ]
    }
   ],
   "source": [
    "file_path = '/Users/ernest/Desktop/comp8880/project/code 2/data/low_mu/facebook_clean_data/artist_edges.csv'\n",
    "G = read_undirected_graph(file_path, 0)  # 例如跳过第一行描述行\n",
    "\n",
    "print(\"artist:\", calculate_mu_infomap(G))"
   ]
  },
  {
   "cell_type": "code",
   "execution_count": 31,
   "metadata": {},
   "outputs": [
    {
     "name": "stdout",
     "output_type": "stream",
     "text": [
      "athletes: 0.10350107645724681\n"
     ]
    }
   ],
   "source": [
    "file_path = \"/Users/ernest/Desktop/comp8880/project/code 2/data/low_mu/facebook_clean_data/athletes_edges.csv\"\n",
    "G = read_undirected_graph(file_path, 0)  # 例如跳过第一行描述行\n",
    "print(\"athletes:\", calculate_mu_infomap(G))"
   ]
  },
  {
   "cell_type": "code",
   "execution_count": 32,
   "metadata": {},
   "outputs": [
    {
     "name": "stdout",
     "output_type": "stream",
     "text": [
      "company: 0.10852401980463\n"
     ]
    }
   ],
   "source": [
    "file_path = \"/Users/ernest/Desktop/comp8880/project/code 2/data/low_mu/facebook_clean_data/company_edges.csv\"\n",
    "G = read_undirected_graph(file_path, 0)  # 例如跳过第一行描述行\n",
    "print(\"company:\", calculate_mu_infomap(G))"
   ]
  },
  {
   "cell_type": "code",
   "execution_count": 33,
   "metadata": {},
   "outputs": [
    {
     "name": "stdout",
     "output_type": "stream",
     "text": [
      "government: 0.04729699517081023\n"
     ]
    }
   ],
   "source": [
    "file_path = \"/Users/ernest/Desktop/comp8880/project/code 2/data/low_mu/facebook_clean_data/government_edges.csv\"\n",
    "G = read_undirected_graph(file_path, 0)  # 例如跳过第一行描述行\n",
    "print(\"government:\", calculate_mu_infomap(G))"
   ]
  },
  {
   "cell_type": "code",
   "execution_count": 34,
   "metadata": {},
   "outputs": [
    {
     "name": "stdout",
     "output_type": "stream",
     "text": [
      "new_sites_edges: 0.12276738097546785\n"
     ]
    }
   ],
   "source": [
    "file_path = \"/Users/ernest/Desktop/comp8880/project/code 2/data/low_mu/facebook_clean_data/new_sites_edges.csv\"\n",
    "G = read_undirected_graph(file_path, 0)  # 例如跳过第一行描述行\n",
    "print(\"new_sites_edges:\", calculate_mu_infomap(G))"
   ]
  },
  {
   "cell_type": "code",
   "execution_count": 35,
   "metadata": {},
   "outputs": [
    {
     "name": "stdout",
     "output_type": "stream",
     "text": [
      "politician: 0.036472561706206566\n"
     ]
    }
   ],
   "source": [
    "file_path = \"/Users/ernest/Desktop/comp8880/project/code 2/data/low_mu/facebook_clean_data/politician_edges.csv\"\n",
    "G = read_undirected_graph(file_path, 0)  # 例如跳过第一行描述行\n",
    "print(\"politician:\", calculate_mu_infomap(G))\n"
   ]
  },
  {
   "cell_type": "code",
   "execution_count": null,
   "metadata": {},
   "outputs": [],
   "source": []
  },
  {
   "cell_type": "code",
   "execution_count": null,
   "metadata": {},
   "outputs": [],
   "source": []
  }
 ],
 "metadata": {
  "kernelspec": {
   "display_name": "Python 3",
   "language": "python",
   "name": "python3"
  },
  "language_info": {
   "codemirror_mode": {
    "name": "ipython",
    "version": 3
   },
   "file_extension": ".py",
   "mimetype": "text/x-python",
   "name": "python",
   "nbconvert_exporter": "python",
   "pygments_lexer": "ipython3",
   "version": "3.8.5"
  }
 },
 "nbformat": 4,
 "nbformat_minor": 4
}
